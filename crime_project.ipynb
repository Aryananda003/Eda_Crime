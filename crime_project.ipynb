{
 "cells": [
  {
   "cell_type": "code",
   "execution_count": null,
   "metadata": {},
   "outputs": [
    {
     "name": "stdout",
     "output_type": "stream",
     "text": [
      "            DR_NO               Date Rptd                DATE OCC  TIME OCC  \\\n",
      "0       190326475        03-01-2020 00:00        03-01-2020 00:00      2130   \n",
      "1       200106753        02-09-2020 00:00        02-08-2020 00:00      1800   \n",
      "2       200320258        11-11-2020 00:00        11-04-2020 00:00      1700   \n",
      "3       200907217        05-10-2023 00:00        03-10-2020 00:00      2037   \n",
      "4       220614831  08/18/2022 12:00:00 AM  08/17/2020 12:00:00 AM      1200   \n",
      "...           ...                     ...                     ...       ...   \n",
      "955334  241604405  01/14/2024 12:00:00 AM  01/13/2024 12:00:00 AM       720   \n",
      "955335  242106032  02/20/2024 12:00:00 AM  02/17/2024 12:00:00 AM      2330   \n",
      "955336  242004546  01/16/2024 12:00:00 AM  01/16/2024 12:00:00 AM      1510   \n",
      "955337  240104953  01/15/2024 12:00:00 AM  01/15/2024 12:00:00 AM       100   \n",
      "955338  240309674  04/24/2024 12:00:00 AM  04/24/2024 12:00:00 AM      1500   \n",
      "\n",
      "        AREA  AREA NAME  Rpt Dist No  Part 1-2  Crm Cd  \\\n",
      "0          7   Wilshire          784         1     510   \n",
      "1          1    Central          182         1     330   \n",
      "2          3  Southwest          356         1     480   \n",
      "3          9   Van Nuys          964         1     343   \n",
      "4          6  Hollywood          666         2     354   \n",
      "...      ...        ...          ...       ...     ...   \n",
      "955334    16   Foothill         1673         1     230   \n",
      "955335    21    Topanga         2103         1     420   \n",
      "955336    20    Olympic         2013         2     624   \n",
      "955337     1    Central          101         2     745   \n",
      "955338     3  Southwest          358         1     230   \n",
      "\n",
      "                                            Crm Cd Desc  ... Status  \\\n",
      "0                                      VEHICLE - STOLEN  ...     AA   \n",
      "1                                 BURGLARY FROM VEHICLE  ...     IC   \n",
      "2                                         BIKE - STOLEN  ...     IC   \n",
      "3              SHOPLIFTING-GRAND THEFT ($950.01 & OVER)  ...     IC   \n",
      "4                                     THEFT OF IDENTITY  ...     IC   \n",
      "...                                                 ...  ...    ...   \n",
      "955334   ASSAULT WITH DEADLY WEAPON, AGGRAVATED ASSAULT  ...     IC   \n",
      "955335  THEFT FROM MOTOR VEHICLE - PETTY ($950 & UNDER)  ...     IC   \n",
      "955336                         BATTERY - SIMPLE ASSAULT  ...     IC   \n",
      "955337         VANDALISM - MISDEAMEANOR ($399 OR UNDER)  ...     IC   \n",
      "955338   ASSAULT WITH DEADLY WEAPON, AGGRAVATED ASSAULT  ...     IC   \n",
      "\n",
      "         Status Desc Crm Cd 1 Crm Cd 2  Crm Cd 3 Crm Cd 4  \\\n",
      "0       Adult Arrest    510.0    998.0       NaN      NaN   \n",
      "1        Invest Cont    330.0    998.0       NaN      NaN   \n",
      "2        Invest Cont    480.0      NaN       NaN      NaN   \n",
      "3        Invest Cont    343.0      NaN       NaN      NaN   \n",
      "4        Invest Cont    354.0      NaN       NaN      NaN   \n",
      "...              ...      ...      ...       ...      ...   \n",
      "955334   Invest Cont    230.0      NaN       NaN      NaN   \n",
      "955335   Invest Cont    420.0      NaN       NaN      NaN   \n",
      "955336   Invest Cont    624.0      NaN       NaN      NaN   \n",
      "955337   Invest Cont    745.0      NaN       NaN      NaN   \n",
      "955338   Invest Cont    230.0      NaN       NaN      NaN   \n",
      "\n",
      "                                        LOCATION  \\\n",
      "0        1900 S  LONGWOOD                     AV   \n",
      "1        1000 S  FLOWER                       ST   \n",
      "2        1400 W  37TH                         ST   \n",
      "3       14000    RIVERSIDE                    DR   \n",
      "4                              1900    TRANSIENT   \n",
      "...                                          ...   \n",
      "955334   8700    LANKERSHIM                   BL   \n",
      "955335  22700    NAPA                         ST   \n",
      "955336           HOBART                       BL   \n",
      "955337   1300 W  SUNSET                       BL   \n",
      "955338           FLOWER                       ST   \n",
      "\n",
      "                           Cross Street      LAT       LON  \n",
      "0                                   NaN  34.0375 -118.3506  \n",
      "1                                   NaN  34.0444 -118.2628  \n",
      "2                                   NaN  34.0210 -118.3002  \n",
      "3                                   NaN  34.1576 -118.4387  \n",
      "4                                   NaN  34.0944 -118.3277  \n",
      "...                                 ...      ...       ...  \n",
      "955334                              NaN  34.2271 -118.3878  \n",
      "955335                              NaN  34.2260 -118.6214  \n",
      "955336  3RD                          ST  34.0690 -118.3054  \n",
      "955337                              NaN  34.0685 -118.2460  \n",
      "955338  JEFFERSON                    BL  34.0215 -118.2868  \n",
      "\n",
      "[955339 rows x 28 columns]\n"
     ]
    }
   ],
   "source": [
    "import pandas as pd\n",
    "df1=pd.read_csv(r\"PROJECT.csv\")\n"
   ]
  },
  {
   "cell_type": "code",
   "execution_count": 2,
   "metadata": {},
   "outputs": [
    {
     "data": {
      "text/html": [
       "<div>\n",
       "<style scoped>\n",
       "    .dataframe tbody tr th:only-of-type {\n",
       "        vertical-align: middle;\n",
       "    }\n",
       "\n",
       "    .dataframe tbody tr th {\n",
       "        vertical-align: top;\n",
       "    }\n",
       "\n",
       "    .dataframe thead th {\n",
       "        text-align: right;\n",
       "    }\n",
       "</style>\n",
       "<table border=\"1\" class=\"dataframe\">\n",
       "  <thead>\n",
       "    <tr style=\"text-align: right;\">\n",
       "      <th></th>\n",
       "      <th>DR_NO</th>\n",
       "      <th>Date Rptd</th>\n",
       "      <th>DATE OCC</th>\n",
       "      <th>TIME OCC</th>\n",
       "      <th>AREA</th>\n",
       "      <th>AREA NAME</th>\n",
       "      <th>Rpt Dist No</th>\n",
       "      <th>Part 1-2</th>\n",
       "      <th>Crm Cd</th>\n",
       "      <th>Crm Cd Desc</th>\n",
       "      <th>...</th>\n",
       "      <th>Status</th>\n",
       "      <th>Status Desc</th>\n",
       "      <th>Crm Cd 1</th>\n",
       "      <th>Crm Cd 2</th>\n",
       "      <th>Crm Cd 3</th>\n",
       "      <th>Crm Cd 4</th>\n",
       "      <th>LOCATION</th>\n",
       "      <th>Cross Street</th>\n",
       "      <th>LAT</th>\n",
       "      <th>LON</th>\n",
       "    </tr>\n",
       "  </thead>\n",
       "  <tbody>\n",
       "    <tr>\n",
       "      <th>0</th>\n",
       "      <td>190326475</td>\n",
       "      <td>03-01-2020 00:00</td>\n",
       "      <td>03-01-2020 00:00</td>\n",
       "      <td>2130</td>\n",
       "      <td>7</td>\n",
       "      <td>Wilshire</td>\n",
       "      <td>784</td>\n",
       "      <td>1</td>\n",
       "      <td>510</td>\n",
       "      <td>VEHICLE - STOLEN</td>\n",
       "      <td>...</td>\n",
       "      <td>AA</td>\n",
       "      <td>Adult Arrest</td>\n",
       "      <td>510.0</td>\n",
       "      <td>998.0</td>\n",
       "      <td>NaN</td>\n",
       "      <td>NaN</td>\n",
       "      <td>1900 S  LONGWOOD                     AV</td>\n",
       "      <td>NaN</td>\n",
       "      <td>34.0375</td>\n",
       "      <td>-118.3506</td>\n",
       "    </tr>\n",
       "    <tr>\n",
       "      <th>1</th>\n",
       "      <td>200106753</td>\n",
       "      <td>02-09-2020 00:00</td>\n",
       "      <td>02-08-2020 00:00</td>\n",
       "      <td>1800</td>\n",
       "      <td>1</td>\n",
       "      <td>Central</td>\n",
       "      <td>182</td>\n",
       "      <td>1</td>\n",
       "      <td>330</td>\n",
       "      <td>BURGLARY FROM VEHICLE</td>\n",
       "      <td>...</td>\n",
       "      <td>IC</td>\n",
       "      <td>Invest Cont</td>\n",
       "      <td>330.0</td>\n",
       "      <td>998.0</td>\n",
       "      <td>NaN</td>\n",
       "      <td>NaN</td>\n",
       "      <td>1000 S  FLOWER                       ST</td>\n",
       "      <td>NaN</td>\n",
       "      <td>34.0444</td>\n",
       "      <td>-118.2628</td>\n",
       "    </tr>\n",
       "    <tr>\n",
       "      <th>2</th>\n",
       "      <td>200320258</td>\n",
       "      <td>11-11-2020 00:00</td>\n",
       "      <td>11-04-2020 00:00</td>\n",
       "      <td>1700</td>\n",
       "      <td>3</td>\n",
       "      <td>Southwest</td>\n",
       "      <td>356</td>\n",
       "      <td>1</td>\n",
       "      <td>480</td>\n",
       "      <td>BIKE - STOLEN</td>\n",
       "      <td>...</td>\n",
       "      <td>IC</td>\n",
       "      <td>Invest Cont</td>\n",
       "      <td>480.0</td>\n",
       "      <td>NaN</td>\n",
       "      <td>NaN</td>\n",
       "      <td>NaN</td>\n",
       "      <td>1400 W  37TH                         ST</td>\n",
       "      <td>NaN</td>\n",
       "      <td>34.0210</td>\n",
       "      <td>-118.3002</td>\n",
       "    </tr>\n",
       "    <tr>\n",
       "      <th>3</th>\n",
       "      <td>200907217</td>\n",
       "      <td>05-10-2023 00:00</td>\n",
       "      <td>03-10-2020 00:00</td>\n",
       "      <td>2037</td>\n",
       "      <td>9</td>\n",
       "      <td>Van Nuys</td>\n",
       "      <td>964</td>\n",
       "      <td>1</td>\n",
       "      <td>343</td>\n",
       "      <td>SHOPLIFTING-GRAND THEFT ($950.01 &amp; OVER)</td>\n",
       "      <td>...</td>\n",
       "      <td>IC</td>\n",
       "      <td>Invest Cont</td>\n",
       "      <td>343.0</td>\n",
       "      <td>NaN</td>\n",
       "      <td>NaN</td>\n",
       "      <td>NaN</td>\n",
       "      <td>14000    RIVERSIDE                    DR</td>\n",
       "      <td>NaN</td>\n",
       "      <td>34.1576</td>\n",
       "      <td>-118.4387</td>\n",
       "    </tr>\n",
       "    <tr>\n",
       "      <th>4</th>\n",
       "      <td>220614831</td>\n",
       "      <td>08/18/2022 12:00:00 AM</td>\n",
       "      <td>08/17/2020 12:00:00 AM</td>\n",
       "      <td>1200</td>\n",
       "      <td>6</td>\n",
       "      <td>Hollywood</td>\n",
       "      <td>666</td>\n",
       "      <td>2</td>\n",
       "      <td>354</td>\n",
       "      <td>THEFT OF IDENTITY</td>\n",
       "      <td>...</td>\n",
       "      <td>IC</td>\n",
       "      <td>Invest Cont</td>\n",
       "      <td>354.0</td>\n",
       "      <td>NaN</td>\n",
       "      <td>NaN</td>\n",
       "      <td>NaN</td>\n",
       "      <td>1900    TRANSIENT</td>\n",
       "      <td>NaN</td>\n",
       "      <td>34.0944</td>\n",
       "      <td>-118.3277</td>\n",
       "    </tr>\n",
       "  </tbody>\n",
       "</table>\n",
       "<p>5 rows × 28 columns</p>\n",
       "</div>"
      ],
      "text/plain": [
       "       DR_NO               Date Rptd                DATE OCC  TIME OCC  AREA  \\\n",
       "0  190326475        03-01-2020 00:00        03-01-2020 00:00      2130     7   \n",
       "1  200106753        02-09-2020 00:00        02-08-2020 00:00      1800     1   \n",
       "2  200320258        11-11-2020 00:00        11-04-2020 00:00      1700     3   \n",
       "3  200907217        05-10-2023 00:00        03-10-2020 00:00      2037     9   \n",
       "4  220614831  08/18/2022 12:00:00 AM  08/17/2020 12:00:00 AM      1200     6   \n",
       "\n",
       "   AREA NAME  Rpt Dist No  Part 1-2  Crm Cd  \\\n",
       "0   Wilshire          784         1     510   \n",
       "1    Central          182         1     330   \n",
       "2  Southwest          356         1     480   \n",
       "3   Van Nuys          964         1     343   \n",
       "4  Hollywood          666         2     354   \n",
       "\n",
       "                                Crm Cd Desc  ... Status   Status Desc  \\\n",
       "0                          VEHICLE - STOLEN  ...     AA  Adult Arrest   \n",
       "1                     BURGLARY FROM VEHICLE  ...     IC   Invest Cont   \n",
       "2                             BIKE - STOLEN  ...     IC   Invest Cont   \n",
       "3  SHOPLIFTING-GRAND THEFT ($950.01 & OVER)  ...     IC   Invest Cont   \n",
       "4                         THEFT OF IDENTITY  ...     IC   Invest Cont   \n",
       "\n",
       "  Crm Cd 1 Crm Cd 2  Crm Cd 3 Crm Cd 4  \\\n",
       "0    510.0    998.0       NaN      NaN   \n",
       "1    330.0    998.0       NaN      NaN   \n",
       "2    480.0      NaN       NaN      NaN   \n",
       "3    343.0      NaN       NaN      NaN   \n",
       "4    354.0      NaN       NaN      NaN   \n",
       "\n",
       "                                   LOCATION Cross Street      LAT       LON  \n",
       "0   1900 S  LONGWOOD                     AV          NaN  34.0375 -118.3506  \n",
       "1   1000 S  FLOWER                       ST          NaN  34.0444 -118.2628  \n",
       "2   1400 W  37TH                         ST          NaN  34.0210 -118.3002  \n",
       "3  14000    RIVERSIDE                    DR          NaN  34.1576 -118.4387  \n",
       "4                         1900    TRANSIENT          NaN  34.0944 -118.3277  \n",
       "\n",
       "[5 rows x 28 columns]"
      ]
     },
     "execution_count": 2,
     "metadata": {},
     "output_type": "execute_result"
    }
   ],
   "source": [
    "df1.head()"
   ]
  },
  {
   "cell_type": "code",
   "execution_count": 3,
   "metadata": {},
   "outputs": [
    {
     "data": {
      "text/html": [
       "<div>\n",
       "<style scoped>\n",
       "    .dataframe tbody tr th:only-of-type {\n",
       "        vertical-align: middle;\n",
       "    }\n",
       "\n",
       "    .dataframe tbody tr th {\n",
       "        vertical-align: top;\n",
       "    }\n",
       "\n",
       "    .dataframe thead th {\n",
       "        text-align: right;\n",
       "    }\n",
       "</style>\n",
       "<table border=\"1\" class=\"dataframe\">\n",
       "  <thead>\n",
       "    <tr style=\"text-align: right;\">\n",
       "      <th></th>\n",
       "      <th>DR_NO</th>\n",
       "      <th>TIME OCC</th>\n",
       "      <th>AREA</th>\n",
       "      <th>Rpt Dist No</th>\n",
       "      <th>Part 1-2</th>\n",
       "      <th>Crm Cd</th>\n",
       "      <th>Vict Age</th>\n",
       "      <th>Premis Cd</th>\n",
       "      <th>Weapon Used Cd</th>\n",
       "      <th>Crm Cd 1</th>\n",
       "      <th>Crm Cd 2</th>\n",
       "      <th>Crm Cd 3</th>\n",
       "      <th>Crm Cd 4</th>\n",
       "      <th>LAT</th>\n",
       "      <th>LON</th>\n",
       "    </tr>\n",
       "  </thead>\n",
       "  <tbody>\n",
       "    <tr>\n",
       "      <th>count</th>\n",
       "      <td>9.553390e+05</td>\n",
       "      <td>955339.000000</td>\n",
       "      <td>955339.000000</td>\n",
       "      <td>955339.000000</td>\n",
       "      <td>955339.000000</td>\n",
       "      <td>955339.000000</td>\n",
       "      <td>955339.000000</td>\n",
       "      <td>955327.000000</td>\n",
       "      <td>325019.000000</td>\n",
       "      <td>955328.000000</td>\n",
       "      <td>68466.000000</td>\n",
       "      <td>2294.000000</td>\n",
       "      <td>64.00000</td>\n",
       "      <td>955339.000000</td>\n",
       "      <td>955339.000000</td>\n",
       "    </tr>\n",
       "    <tr>\n",
       "      <th>mean</th>\n",
       "      <td>2.191355e+08</td>\n",
       "      <td>1338.453032</td>\n",
       "      <td>10.718033</td>\n",
       "      <td>1118.243545</td>\n",
       "      <td>1.407805</td>\n",
       "      <td>500.667710</td>\n",
       "      <td>29.383110</td>\n",
       "      <td>306.255200</td>\n",
       "      <td>363.741547</td>\n",
       "      <td>500.415756</td>\n",
       "      <td>958.107265</td>\n",
       "      <td>984.102005</td>\n",
       "      <td>991.21875</td>\n",
       "      <td>33.993372</td>\n",
       "      <td>-118.074280</td>\n",
       "    </tr>\n",
       "    <tr>\n",
       "      <th>std</th>\n",
       "      <td>1.261589e+07</td>\n",
       "      <td>652.186527</td>\n",
       "      <td>6.100431</td>\n",
       "      <td>610.098189</td>\n",
       "      <td>0.491427</td>\n",
       "      <td>206.867837</td>\n",
       "      <td>21.909695</td>\n",
       "      <td>217.844195</td>\n",
       "      <td>123.606085</td>\n",
       "      <td>206.661318</td>\n",
       "      <td>110.316767</td>\n",
       "      <td>51.662269</td>\n",
       "      <td>27.06985</td>\n",
       "      <td>1.660523</td>\n",
       "      <td>5.755746</td>\n",
       "    </tr>\n",
       "    <tr>\n",
       "      <th>min</th>\n",
       "      <td>8.170000e+02</td>\n",
       "      <td>1.000000</td>\n",
       "      <td>1.000000</td>\n",
       "      <td>101.000000</td>\n",
       "      <td>1.000000</td>\n",
       "      <td>110.000000</td>\n",
       "      <td>-4.000000</td>\n",
       "      <td>101.000000</td>\n",
       "      <td>101.000000</td>\n",
       "      <td>110.000000</td>\n",
       "      <td>210.000000</td>\n",
       "      <td>310.000000</td>\n",
       "      <td>821.00000</td>\n",
       "      <td>0.000000</td>\n",
       "      <td>-118.667600</td>\n",
       "    </tr>\n",
       "    <tr>\n",
       "      <th>25%</th>\n",
       "      <td>2.105125e+08</td>\n",
       "      <td>900.000000</td>\n",
       "      <td>6.000000</td>\n",
       "      <td>621.000000</td>\n",
       "      <td>1.000000</td>\n",
       "      <td>331.000000</td>\n",
       "      <td>0.000000</td>\n",
       "      <td>101.000000</td>\n",
       "      <td>311.000000</td>\n",
       "      <td>331.000000</td>\n",
       "      <td>998.000000</td>\n",
       "      <td>998.000000</td>\n",
       "      <td>998.00000</td>\n",
       "      <td>34.014500</td>\n",
       "      <td>-118.430700</td>\n",
       "    </tr>\n",
       "    <tr>\n",
       "      <th>50%</th>\n",
       "      <td>2.207106e+08</td>\n",
       "      <td>1420.000000</td>\n",
       "      <td>11.000000</td>\n",
       "      <td>1142.000000</td>\n",
       "      <td>1.000000</td>\n",
       "      <td>442.000000</td>\n",
       "      <td>30.000000</td>\n",
       "      <td>203.000000</td>\n",
       "      <td>400.000000</td>\n",
       "      <td>442.000000</td>\n",
       "      <td>998.000000</td>\n",
       "      <td>998.000000</td>\n",
       "      <td>998.00000</td>\n",
       "      <td>34.059000</td>\n",
       "      <td>-118.322500</td>\n",
       "    </tr>\n",
       "    <tr>\n",
       "      <th>75%</th>\n",
       "      <td>2.307171e+08</td>\n",
       "      <td>1900.000000</td>\n",
       "      <td>16.000000</td>\n",
       "      <td>1618.000000</td>\n",
       "      <td>2.000000</td>\n",
       "      <td>626.000000</td>\n",
       "      <td>45.000000</td>\n",
       "      <td>501.000000</td>\n",
       "      <td>400.000000</td>\n",
       "      <td>626.000000</td>\n",
       "      <td>998.000000</td>\n",
       "      <td>998.000000</td>\n",
       "      <td>998.00000</td>\n",
       "      <td>34.164900</td>\n",
       "      <td>-118.274000</td>\n",
       "    </tr>\n",
       "    <tr>\n",
       "      <th>max</th>\n",
       "      <td>2.499187e+08</td>\n",
       "      <td>2359.000000</td>\n",
       "      <td>21.000000</td>\n",
       "      <td>2199.000000</td>\n",
       "      <td>2.000000</td>\n",
       "      <td>956.000000</td>\n",
       "      <td>120.000000</td>\n",
       "      <td>976.000000</td>\n",
       "      <td>516.000000</td>\n",
       "      <td>956.000000</td>\n",
       "      <td>999.000000</td>\n",
       "      <td>999.000000</td>\n",
       "      <td>999.00000</td>\n",
       "      <td>34.334300</td>\n",
       "      <td>0.000000</td>\n",
       "    </tr>\n",
       "  </tbody>\n",
       "</table>\n",
       "</div>"
      ],
      "text/plain": [
       "              DR_NO       TIME OCC           AREA    Rpt Dist No  \\\n",
       "count  9.553390e+05  955339.000000  955339.000000  955339.000000   \n",
       "mean   2.191355e+08    1338.453032      10.718033    1118.243545   \n",
       "std    1.261589e+07     652.186527       6.100431     610.098189   \n",
       "min    8.170000e+02       1.000000       1.000000     101.000000   \n",
       "25%    2.105125e+08     900.000000       6.000000     621.000000   \n",
       "50%    2.207106e+08    1420.000000      11.000000    1142.000000   \n",
       "75%    2.307171e+08    1900.000000      16.000000    1618.000000   \n",
       "max    2.499187e+08    2359.000000      21.000000    2199.000000   \n",
       "\n",
       "            Part 1-2         Crm Cd       Vict Age      Premis Cd  \\\n",
       "count  955339.000000  955339.000000  955339.000000  955327.000000   \n",
       "mean        1.407805     500.667710      29.383110     306.255200   \n",
       "std         0.491427     206.867837      21.909695     217.844195   \n",
       "min         1.000000     110.000000      -4.000000     101.000000   \n",
       "25%         1.000000     331.000000       0.000000     101.000000   \n",
       "50%         1.000000     442.000000      30.000000     203.000000   \n",
       "75%         2.000000     626.000000      45.000000     501.000000   \n",
       "max         2.000000     956.000000     120.000000     976.000000   \n",
       "\n",
       "       Weapon Used Cd       Crm Cd 1      Crm Cd 2     Crm Cd 3   Crm Cd 4  \\\n",
       "count   325019.000000  955328.000000  68466.000000  2294.000000   64.00000   \n",
       "mean       363.741547     500.415756    958.107265   984.102005  991.21875   \n",
       "std        123.606085     206.661318    110.316767    51.662269   27.06985   \n",
       "min        101.000000     110.000000    210.000000   310.000000  821.00000   \n",
       "25%        311.000000     331.000000    998.000000   998.000000  998.00000   \n",
       "50%        400.000000     442.000000    998.000000   998.000000  998.00000   \n",
       "75%        400.000000     626.000000    998.000000   998.000000  998.00000   \n",
       "max        516.000000     956.000000    999.000000   999.000000  999.00000   \n",
       "\n",
       "                 LAT            LON  \n",
       "count  955339.000000  955339.000000  \n",
       "mean       33.993372    -118.074280  \n",
       "std         1.660523       5.755746  \n",
       "min         0.000000    -118.667600  \n",
       "25%        34.014500    -118.430700  \n",
       "50%        34.059000    -118.322500  \n",
       "75%        34.164900    -118.274000  \n",
       "max        34.334300       0.000000  "
      ]
     },
     "execution_count": 3,
     "metadata": {},
     "output_type": "execute_result"
    }
   ],
   "source": [
    "df1.describe()"
   ]
  },
  {
   "cell_type": "code",
   "execution_count": 4,
   "metadata": {},
   "outputs": [
    {
     "name": "stdout",
     "output_type": "stream",
     "text": [
      "<class 'pandas.core.frame.DataFrame'>\n",
      "RangeIndex: 955339 entries, 0 to 955338\n",
      "Data columns (total 28 columns):\n",
      " #   Column          Non-Null Count   Dtype  \n",
      "---  ------          --------------   -----  \n",
      " 0   DR_NO           955339 non-null  int64  \n",
      " 1   Date Rptd       955339 non-null  object \n",
      " 2   DATE OCC        955339 non-null  object \n",
      " 3   TIME OCC        955339 non-null  int64  \n",
      " 4   AREA            955339 non-null  int64  \n",
      " 5   AREA NAME       955339 non-null  object \n",
      " 6   Rpt Dist No     955339 non-null  int64  \n",
      " 7   Part 1-2        955339 non-null  int64  \n",
      " 8   Crm Cd          955339 non-null  int64  \n",
      " 9   Crm Cd Desc     955339 non-null  object \n",
      " 10  Mocodes         818664 non-null  object \n",
      " 11  Vict Age        955339 non-null  int64  \n",
      " 12  Vict Sex        825294 non-null  object \n",
      " 13  Vict Descent    825284 non-null  object \n",
      " 14  Premis Cd       955327 non-null  float64\n",
      " 15  Premis Desc     954770 non-null  object \n",
      " 16  Weapon Used Cd  325019 non-null  float64\n",
      " 17  Weapon Desc     325019 non-null  object \n",
      " 18  Status          955338 non-null  object \n",
      " 19  Status Desc     955339 non-null  object \n",
      " 20  Crm Cd 1        955328 non-null  float64\n",
      " 21  Crm Cd 2        68466 non-null   float64\n",
      " 22  Crm Cd 3        2294 non-null    float64\n",
      " 23  Crm Cd 4        64 non-null      float64\n",
      " 24  LOCATION        955339 non-null  object \n",
      " 25  Cross Street    148900 non-null  object \n",
      " 26  LAT             955339 non-null  float64\n",
      " 27  LON             955339 non-null  float64\n",
      "dtypes: float64(8), int64(7), object(13)\n",
      "memory usage: 204.1+ MB\n"
     ]
    }
   ],
   "source": [
    "df1.info()"
   ]
  },
  {
   "cell_type": "code",
   "execution_count": 5,
   "metadata": {},
   "outputs": [],
   "source": [
    "df_backup=df1.copy()"
   ]
  },
  {
   "cell_type": "code",
   "execution_count": 6,
   "metadata": {},
   "outputs": [
    {
     "data": {
      "text/plain": [
       "AREA\n",
       "1     64737\n",
       "12    59719\n",
       "14    55792\n",
       "3     54129\n",
       "6     50035\n",
       "15    48556\n",
       "18    48127\n",
       "20    47840\n",
       "13    47125\n",
       "7     45734\n",
       "2     44440\n",
       "8     43509\n",
       "9     40830\n",
       "11    40661\n",
       "10    40400\n",
       "17    39603\n",
       "5     39485\n",
       "21    39403\n",
       "19    38244\n",
       "4     35156\n",
       "16    31814\n",
       "Name: count, dtype: int64"
      ]
     },
     "execution_count": 6,
     "metadata": {},
     "output_type": "execute_result"
    }
   ],
   "source": [
    "df1['AREA'].value_counts()"
   ]
  },
  {
   "cell_type": "code",
   "execution_count": 7,
   "metadata": {},
   "outputs": [],
   "source": [
    "for i in df1:\n",
    "    j=i.replace(' ','_')\n",
    "    df1=df1.rename(columns={i:j.capitalize()})"
   ]
  },
  {
   "cell_type": "code",
   "execution_count": 8,
   "metadata": {},
   "outputs": [
    {
     "data": {
      "text/html": [
       "<div>\n",
       "<style scoped>\n",
       "    .dataframe tbody tr th:only-of-type {\n",
       "        vertical-align: middle;\n",
       "    }\n",
       "\n",
       "    .dataframe tbody tr th {\n",
       "        vertical-align: top;\n",
       "    }\n",
       "\n",
       "    .dataframe thead th {\n",
       "        text-align: right;\n",
       "    }\n",
       "</style>\n",
       "<table border=\"1\" class=\"dataframe\">\n",
       "  <thead>\n",
       "    <tr style=\"text-align: right;\">\n",
       "      <th></th>\n",
       "      <th>Dr_no</th>\n",
       "      <th>Date_rptd</th>\n",
       "      <th>Date_occ</th>\n",
       "      <th>Time_occ</th>\n",
       "      <th>Area</th>\n",
       "      <th>Area_name</th>\n",
       "      <th>Rpt_dist_no</th>\n",
       "      <th>Part_1-2</th>\n",
       "      <th>Crm_cd</th>\n",
       "      <th>Crm_cd_desc</th>\n",
       "      <th>...</th>\n",
       "      <th>Status</th>\n",
       "      <th>Status_desc</th>\n",
       "      <th>Crm_cd_1</th>\n",
       "      <th>Crm_cd_2</th>\n",
       "      <th>Crm_cd_3</th>\n",
       "      <th>Crm_cd_4</th>\n",
       "      <th>Location</th>\n",
       "      <th>Cross_street</th>\n",
       "      <th>Lat</th>\n",
       "      <th>Lon</th>\n",
       "    </tr>\n",
       "  </thead>\n",
       "  <tbody>\n",
       "    <tr>\n",
       "      <th>0</th>\n",
       "      <td>190326475</td>\n",
       "      <td>03-01-2020 00:00</td>\n",
       "      <td>03-01-2020 00:00</td>\n",
       "      <td>2130</td>\n",
       "      <td>7</td>\n",
       "      <td>Wilshire</td>\n",
       "      <td>784</td>\n",
       "      <td>1</td>\n",
       "      <td>510</td>\n",
       "      <td>VEHICLE - STOLEN</td>\n",
       "      <td>...</td>\n",
       "      <td>AA</td>\n",
       "      <td>Adult Arrest</td>\n",
       "      <td>510.0</td>\n",
       "      <td>998.0</td>\n",
       "      <td>NaN</td>\n",
       "      <td>NaN</td>\n",
       "      <td>1900 S  LONGWOOD                     AV</td>\n",
       "      <td>NaN</td>\n",
       "      <td>34.0375</td>\n",
       "      <td>-118.3506</td>\n",
       "    </tr>\n",
       "    <tr>\n",
       "      <th>1</th>\n",
       "      <td>200106753</td>\n",
       "      <td>02-09-2020 00:00</td>\n",
       "      <td>02-08-2020 00:00</td>\n",
       "      <td>1800</td>\n",
       "      <td>1</td>\n",
       "      <td>Central</td>\n",
       "      <td>182</td>\n",
       "      <td>1</td>\n",
       "      <td>330</td>\n",
       "      <td>BURGLARY FROM VEHICLE</td>\n",
       "      <td>...</td>\n",
       "      <td>IC</td>\n",
       "      <td>Invest Cont</td>\n",
       "      <td>330.0</td>\n",
       "      <td>998.0</td>\n",
       "      <td>NaN</td>\n",
       "      <td>NaN</td>\n",
       "      <td>1000 S  FLOWER                       ST</td>\n",
       "      <td>NaN</td>\n",
       "      <td>34.0444</td>\n",
       "      <td>-118.2628</td>\n",
       "    </tr>\n",
       "    <tr>\n",
       "      <th>2</th>\n",
       "      <td>200320258</td>\n",
       "      <td>11-11-2020 00:00</td>\n",
       "      <td>11-04-2020 00:00</td>\n",
       "      <td>1700</td>\n",
       "      <td>3</td>\n",
       "      <td>Southwest</td>\n",
       "      <td>356</td>\n",
       "      <td>1</td>\n",
       "      <td>480</td>\n",
       "      <td>BIKE - STOLEN</td>\n",
       "      <td>...</td>\n",
       "      <td>IC</td>\n",
       "      <td>Invest Cont</td>\n",
       "      <td>480.0</td>\n",
       "      <td>NaN</td>\n",
       "      <td>NaN</td>\n",
       "      <td>NaN</td>\n",
       "      <td>1400 W  37TH                         ST</td>\n",
       "      <td>NaN</td>\n",
       "      <td>34.0210</td>\n",
       "      <td>-118.3002</td>\n",
       "    </tr>\n",
       "    <tr>\n",
       "      <th>3</th>\n",
       "      <td>200907217</td>\n",
       "      <td>05-10-2023 00:00</td>\n",
       "      <td>03-10-2020 00:00</td>\n",
       "      <td>2037</td>\n",
       "      <td>9</td>\n",
       "      <td>Van Nuys</td>\n",
       "      <td>964</td>\n",
       "      <td>1</td>\n",
       "      <td>343</td>\n",
       "      <td>SHOPLIFTING-GRAND THEFT ($950.01 &amp; OVER)</td>\n",
       "      <td>...</td>\n",
       "      <td>IC</td>\n",
       "      <td>Invest Cont</td>\n",
       "      <td>343.0</td>\n",
       "      <td>NaN</td>\n",
       "      <td>NaN</td>\n",
       "      <td>NaN</td>\n",
       "      <td>14000    RIVERSIDE                    DR</td>\n",
       "      <td>NaN</td>\n",
       "      <td>34.1576</td>\n",
       "      <td>-118.4387</td>\n",
       "    </tr>\n",
       "    <tr>\n",
       "      <th>4</th>\n",
       "      <td>220614831</td>\n",
       "      <td>08/18/2022 12:00:00 AM</td>\n",
       "      <td>08/17/2020 12:00:00 AM</td>\n",
       "      <td>1200</td>\n",
       "      <td>6</td>\n",
       "      <td>Hollywood</td>\n",
       "      <td>666</td>\n",
       "      <td>2</td>\n",
       "      <td>354</td>\n",
       "      <td>THEFT OF IDENTITY</td>\n",
       "      <td>...</td>\n",
       "      <td>IC</td>\n",
       "      <td>Invest Cont</td>\n",
       "      <td>354.0</td>\n",
       "      <td>NaN</td>\n",
       "      <td>NaN</td>\n",
       "      <td>NaN</td>\n",
       "      <td>1900    TRANSIENT</td>\n",
       "      <td>NaN</td>\n",
       "      <td>34.0944</td>\n",
       "      <td>-118.3277</td>\n",
       "    </tr>\n",
       "    <tr>\n",
       "      <th>...</th>\n",
       "      <td>...</td>\n",
       "      <td>...</td>\n",
       "      <td>...</td>\n",
       "      <td>...</td>\n",
       "      <td>...</td>\n",
       "      <td>...</td>\n",
       "      <td>...</td>\n",
       "      <td>...</td>\n",
       "      <td>...</td>\n",
       "      <td>...</td>\n",
       "      <td>...</td>\n",
       "      <td>...</td>\n",
       "      <td>...</td>\n",
       "      <td>...</td>\n",
       "      <td>...</td>\n",
       "      <td>...</td>\n",
       "      <td>...</td>\n",
       "      <td>...</td>\n",
       "      <td>...</td>\n",
       "      <td>...</td>\n",
       "      <td>...</td>\n",
       "    </tr>\n",
       "    <tr>\n",
       "      <th>955334</th>\n",
       "      <td>241604405</td>\n",
       "      <td>01/14/2024 12:00:00 AM</td>\n",
       "      <td>01/13/2024 12:00:00 AM</td>\n",
       "      <td>720</td>\n",
       "      <td>16</td>\n",
       "      <td>Foothill</td>\n",
       "      <td>1673</td>\n",
       "      <td>1</td>\n",
       "      <td>230</td>\n",
       "      <td>ASSAULT WITH DEADLY WEAPON, AGGRAVATED ASSAULT</td>\n",
       "      <td>...</td>\n",
       "      <td>IC</td>\n",
       "      <td>Invest Cont</td>\n",
       "      <td>230.0</td>\n",
       "      <td>NaN</td>\n",
       "      <td>NaN</td>\n",
       "      <td>NaN</td>\n",
       "      <td>8700    LANKERSHIM                   BL</td>\n",
       "      <td>NaN</td>\n",
       "      <td>34.2271</td>\n",
       "      <td>-118.3878</td>\n",
       "    </tr>\n",
       "    <tr>\n",
       "      <th>955335</th>\n",
       "      <td>242106032</td>\n",
       "      <td>02/20/2024 12:00:00 AM</td>\n",
       "      <td>02/17/2024 12:00:00 AM</td>\n",
       "      <td>2330</td>\n",
       "      <td>21</td>\n",
       "      <td>Topanga</td>\n",
       "      <td>2103</td>\n",
       "      <td>1</td>\n",
       "      <td>420</td>\n",
       "      <td>THEFT FROM MOTOR VEHICLE - PETTY ($950 &amp; UNDER)</td>\n",
       "      <td>...</td>\n",
       "      <td>IC</td>\n",
       "      <td>Invest Cont</td>\n",
       "      <td>420.0</td>\n",
       "      <td>NaN</td>\n",
       "      <td>NaN</td>\n",
       "      <td>NaN</td>\n",
       "      <td>22700    NAPA                         ST</td>\n",
       "      <td>NaN</td>\n",
       "      <td>34.2260</td>\n",
       "      <td>-118.6214</td>\n",
       "    </tr>\n",
       "    <tr>\n",
       "      <th>955336</th>\n",
       "      <td>242004546</td>\n",
       "      <td>01/16/2024 12:00:00 AM</td>\n",
       "      <td>01/16/2024 12:00:00 AM</td>\n",
       "      <td>1510</td>\n",
       "      <td>20</td>\n",
       "      <td>Olympic</td>\n",
       "      <td>2013</td>\n",
       "      <td>2</td>\n",
       "      <td>624</td>\n",
       "      <td>BATTERY - SIMPLE ASSAULT</td>\n",
       "      <td>...</td>\n",
       "      <td>IC</td>\n",
       "      <td>Invest Cont</td>\n",
       "      <td>624.0</td>\n",
       "      <td>NaN</td>\n",
       "      <td>NaN</td>\n",
       "      <td>NaN</td>\n",
       "      <td>HOBART                       BL</td>\n",
       "      <td>3RD                          ST</td>\n",
       "      <td>34.0690</td>\n",
       "      <td>-118.3054</td>\n",
       "    </tr>\n",
       "    <tr>\n",
       "      <th>955337</th>\n",
       "      <td>240104953</td>\n",
       "      <td>01/15/2024 12:00:00 AM</td>\n",
       "      <td>01/15/2024 12:00:00 AM</td>\n",
       "      <td>100</td>\n",
       "      <td>1</td>\n",
       "      <td>Central</td>\n",
       "      <td>101</td>\n",
       "      <td>2</td>\n",
       "      <td>745</td>\n",
       "      <td>VANDALISM - MISDEAMEANOR ($399 OR UNDER)</td>\n",
       "      <td>...</td>\n",
       "      <td>IC</td>\n",
       "      <td>Invest Cont</td>\n",
       "      <td>745.0</td>\n",
       "      <td>NaN</td>\n",
       "      <td>NaN</td>\n",
       "      <td>NaN</td>\n",
       "      <td>1300 W  SUNSET                       BL</td>\n",
       "      <td>NaN</td>\n",
       "      <td>34.0685</td>\n",
       "      <td>-118.2460</td>\n",
       "    </tr>\n",
       "    <tr>\n",
       "      <th>955338</th>\n",
       "      <td>240309674</td>\n",
       "      <td>04/24/2024 12:00:00 AM</td>\n",
       "      <td>04/24/2024 12:00:00 AM</td>\n",
       "      <td>1500</td>\n",
       "      <td>3</td>\n",
       "      <td>Southwest</td>\n",
       "      <td>358</td>\n",
       "      <td>1</td>\n",
       "      <td>230</td>\n",
       "      <td>ASSAULT WITH DEADLY WEAPON, AGGRAVATED ASSAULT</td>\n",
       "      <td>...</td>\n",
       "      <td>IC</td>\n",
       "      <td>Invest Cont</td>\n",
       "      <td>230.0</td>\n",
       "      <td>NaN</td>\n",
       "      <td>NaN</td>\n",
       "      <td>NaN</td>\n",
       "      <td>FLOWER                       ST</td>\n",
       "      <td>JEFFERSON                    BL</td>\n",
       "      <td>34.0215</td>\n",
       "      <td>-118.2868</td>\n",
       "    </tr>\n",
       "  </tbody>\n",
       "</table>\n",
       "<p>955339 rows × 28 columns</p>\n",
       "</div>"
      ],
      "text/plain": [
       "            Dr_no               Date_rptd                Date_occ  Time_occ  \\\n",
       "0       190326475        03-01-2020 00:00        03-01-2020 00:00      2130   \n",
       "1       200106753        02-09-2020 00:00        02-08-2020 00:00      1800   \n",
       "2       200320258        11-11-2020 00:00        11-04-2020 00:00      1700   \n",
       "3       200907217        05-10-2023 00:00        03-10-2020 00:00      2037   \n",
       "4       220614831  08/18/2022 12:00:00 AM  08/17/2020 12:00:00 AM      1200   \n",
       "...           ...                     ...                     ...       ...   \n",
       "955334  241604405  01/14/2024 12:00:00 AM  01/13/2024 12:00:00 AM       720   \n",
       "955335  242106032  02/20/2024 12:00:00 AM  02/17/2024 12:00:00 AM      2330   \n",
       "955336  242004546  01/16/2024 12:00:00 AM  01/16/2024 12:00:00 AM      1510   \n",
       "955337  240104953  01/15/2024 12:00:00 AM  01/15/2024 12:00:00 AM       100   \n",
       "955338  240309674  04/24/2024 12:00:00 AM  04/24/2024 12:00:00 AM      1500   \n",
       "\n",
       "        Area  Area_name  Rpt_dist_no  Part_1-2  Crm_cd  \\\n",
       "0          7   Wilshire          784         1     510   \n",
       "1          1    Central          182         1     330   \n",
       "2          3  Southwest          356         1     480   \n",
       "3          9   Van Nuys          964         1     343   \n",
       "4          6  Hollywood          666         2     354   \n",
       "...      ...        ...          ...       ...     ...   \n",
       "955334    16   Foothill         1673         1     230   \n",
       "955335    21    Topanga         2103         1     420   \n",
       "955336    20    Olympic         2013         2     624   \n",
       "955337     1    Central          101         2     745   \n",
       "955338     3  Southwest          358         1     230   \n",
       "\n",
       "                                            Crm_cd_desc  ... Status  \\\n",
       "0                                      VEHICLE - STOLEN  ...     AA   \n",
       "1                                 BURGLARY FROM VEHICLE  ...     IC   \n",
       "2                                         BIKE - STOLEN  ...     IC   \n",
       "3              SHOPLIFTING-GRAND THEFT ($950.01 & OVER)  ...     IC   \n",
       "4                                     THEFT OF IDENTITY  ...     IC   \n",
       "...                                                 ...  ...    ...   \n",
       "955334   ASSAULT WITH DEADLY WEAPON, AGGRAVATED ASSAULT  ...     IC   \n",
       "955335  THEFT FROM MOTOR VEHICLE - PETTY ($950 & UNDER)  ...     IC   \n",
       "955336                         BATTERY - SIMPLE ASSAULT  ...     IC   \n",
       "955337         VANDALISM - MISDEAMEANOR ($399 OR UNDER)  ...     IC   \n",
       "955338   ASSAULT WITH DEADLY WEAPON, AGGRAVATED ASSAULT  ...     IC   \n",
       "\n",
       "         Status_desc Crm_cd_1 Crm_cd_2  Crm_cd_3 Crm_cd_4  \\\n",
       "0       Adult Arrest    510.0    998.0       NaN      NaN   \n",
       "1        Invest Cont    330.0    998.0       NaN      NaN   \n",
       "2        Invest Cont    480.0      NaN       NaN      NaN   \n",
       "3        Invest Cont    343.0      NaN       NaN      NaN   \n",
       "4        Invest Cont    354.0      NaN       NaN      NaN   \n",
       "...              ...      ...      ...       ...      ...   \n",
       "955334   Invest Cont    230.0      NaN       NaN      NaN   \n",
       "955335   Invest Cont    420.0      NaN       NaN      NaN   \n",
       "955336   Invest Cont    624.0      NaN       NaN      NaN   \n",
       "955337   Invest Cont    745.0      NaN       NaN      NaN   \n",
       "955338   Invest Cont    230.0      NaN       NaN      NaN   \n",
       "\n",
       "                                        Location  \\\n",
       "0        1900 S  LONGWOOD                     AV   \n",
       "1        1000 S  FLOWER                       ST   \n",
       "2        1400 W  37TH                         ST   \n",
       "3       14000    RIVERSIDE                    DR   \n",
       "4                              1900    TRANSIENT   \n",
       "...                                          ...   \n",
       "955334   8700    LANKERSHIM                   BL   \n",
       "955335  22700    NAPA                         ST   \n",
       "955336           HOBART                       BL   \n",
       "955337   1300 W  SUNSET                       BL   \n",
       "955338           FLOWER                       ST   \n",
       "\n",
       "                           Cross_street      Lat       Lon  \n",
       "0                                   NaN  34.0375 -118.3506  \n",
       "1                                   NaN  34.0444 -118.2628  \n",
       "2                                   NaN  34.0210 -118.3002  \n",
       "3                                   NaN  34.1576 -118.4387  \n",
       "4                                   NaN  34.0944 -118.3277  \n",
       "...                                 ...      ...       ...  \n",
       "955334                              NaN  34.2271 -118.3878  \n",
       "955335                              NaN  34.2260 -118.6214  \n",
       "955336  3RD                          ST  34.0690 -118.3054  \n",
       "955337                              NaN  34.0685 -118.2460  \n",
       "955338  JEFFERSON                    BL  34.0215 -118.2868  \n",
       "\n",
       "[955339 rows x 28 columns]"
      ]
     },
     "execution_count": 8,
     "metadata": {},
     "output_type": "execute_result"
    }
   ],
   "source": [
    "df1"
   ]
  },
  {
   "cell_type": "code",
   "execution_count": 9,
   "metadata": {},
   "outputs": [
    {
     "data": {
      "text/plain": [
       "Dr_no                  0\n",
       "Date_rptd              0\n",
       "Date_occ               0\n",
       "Time_occ               0\n",
       "Area                   0\n",
       "Area_name              0\n",
       "Rpt_dist_no            0\n",
       "Part_1-2               0\n",
       "Crm_cd                 0\n",
       "Crm_cd_desc            0\n",
       "Mocodes           136675\n",
       "Vict_age               0\n",
       "Vict_sex          130045\n",
       "Vict_descent      130055\n",
       "Premis_cd             12\n",
       "Premis_desc          569\n",
       "Weapon_used_cd    630320\n",
       "Weapon_desc       630320\n",
       "Status                 1\n",
       "Status_desc            0\n",
       "Crm_cd_1              11\n",
       "Crm_cd_2          886873\n",
       "Crm_cd_3          953045\n",
       "Crm_cd_4          955275\n",
       "Location               0\n",
       "Cross_street      806439\n",
       "Lat                    0\n",
       "Lon                    0\n",
       "dtype: int64"
      ]
     },
     "execution_count": 9,
     "metadata": {},
     "output_type": "execute_result"
    }
   ],
   "source": [
    "df1.isnull().sum()"
   ]
  },
  {
   "cell_type": "code",
   "execution_count": 10,
   "metadata": {},
   "outputs": [
    {
     "name": "stdout",
     "output_type": "stream",
     "text": [
      "<class 'pandas.core.frame.DataFrame'>\n",
      "RangeIndex: 955339 entries, 0 to 955338\n",
      "Data columns (total 28 columns):\n",
      " #   Column          Non-Null Count   Dtype  \n",
      "---  ------          --------------   -----  \n",
      " 0   Dr_no           955339 non-null  int64  \n",
      " 1   Date_rptd       955339 non-null  object \n",
      " 2   Date_occ        955339 non-null  object \n",
      " 3   Time_occ        955339 non-null  int64  \n",
      " 4   Area            955339 non-null  int64  \n",
      " 5   Area_name       955339 non-null  object \n",
      " 6   Rpt_dist_no     955339 non-null  int64  \n",
      " 7   Part_1-2        955339 non-null  int64  \n",
      " 8   Crm_cd          955339 non-null  int64  \n",
      " 9   Crm_cd_desc     955339 non-null  object \n",
      " 10  Mocodes         818664 non-null  object \n",
      " 11  Vict_age        955339 non-null  int64  \n",
      " 12  Vict_sex        825294 non-null  object \n",
      " 13  Vict_descent    825284 non-null  object \n",
      " 14  Premis_cd       955327 non-null  float64\n",
      " 15  Premis_desc     954770 non-null  object \n",
      " 16  Weapon_used_cd  325019 non-null  float64\n",
      " 17  Weapon_desc     325019 non-null  object \n",
      " 18  Status          955338 non-null  object \n",
      " 19  Status_desc     955339 non-null  object \n",
      " 20  Crm_cd_1        955328 non-null  float64\n",
      " 21  Crm_cd_2        68466 non-null   float64\n",
      " 22  Crm_cd_3        2294 non-null    float64\n",
      " 23  Crm_cd_4        64 non-null      float64\n",
      " 24  Location        955339 non-null  object \n",
      " 25  Cross_street    148900 non-null  object \n",
      " 26  Lat             955339 non-null  float64\n",
      " 27  Lon             955339 non-null  float64\n",
      "dtypes: float64(8), int64(7), object(13)\n",
      "memory usage: 204.1+ MB\n"
     ]
    }
   ],
   "source": [
    "df1.info()"
   ]
  },
  {
   "cell_type": "code",
   "execution_count": 11,
   "metadata": {},
   "outputs": [],
   "source": [
    "for col in df1:\n",
    "    if df1[col].dtype=='object':\n",
    "        if df1[col].isnull().sum()>0:\n",
    "            df1.dropna(subset=[col],inplace=True)"
   ]
  },
  {
   "cell_type": "code",
   "execution_count": 12,
   "metadata": {},
   "outputs": [
    {
     "data": {
      "text/plain": [
       "Dr_no                 0\n",
       "Date_rptd             0\n",
       "Date_occ              0\n",
       "Time_occ              0\n",
       "Area                  0\n",
       "Area_name             0\n",
       "Rpt_dist_no           0\n",
       "Part_1-2              0\n",
       "Crm_cd                0\n",
       "Crm_cd_desc           0\n",
       "Mocodes               0\n",
       "Vict_age              0\n",
       "Vict_sex              0\n",
       "Vict_descent          0\n",
       "Premis_cd             0\n",
       "Premis_desc           0\n",
       "Weapon_used_cd        0\n",
       "Weapon_desc           0\n",
       "Status                0\n",
       "Status_desc           0\n",
       "Crm_cd_1              0\n",
       "Crm_cd_2          63603\n",
       "Crm_cd_3          74633\n",
       "Crm_cd_4          75077\n",
       "Location              0\n",
       "Cross_street          0\n",
       "Lat                   0\n",
       "Lon                   0\n",
       "dtype: int64"
      ]
     },
     "execution_count": 12,
     "metadata": {},
     "output_type": "execute_result"
    }
   ],
   "source": [
    "df1.isnull().sum()"
   ]
  },
  {
   "cell_type": "code",
   "execution_count": 13,
   "metadata": {},
   "outputs": [],
   "source": [
    "for col in df1:\n",
    "    if df1[col].dtype=='float64':\n",
    "        if df1[col].isnull().sum()>0:\n",
    "            df1.dropna(subset=[col],inplace=True)"
   ]
  },
  {
   "cell_type": "code",
   "execution_count": 14,
   "metadata": {},
   "outputs": [
    {
     "data": {
      "text/plain": [
       "Dr_no             0\n",
       "Date_rptd         0\n",
       "Date_occ          0\n",
       "Time_occ          0\n",
       "Area              0\n",
       "Area_name         0\n",
       "Rpt_dist_no       0\n",
       "Part_1-2          0\n",
       "Crm_cd            0\n",
       "Crm_cd_desc       0\n",
       "Mocodes           0\n",
       "Vict_age          0\n",
       "Vict_sex          0\n",
       "Vict_descent      0\n",
       "Premis_cd         0\n",
       "Premis_desc       0\n",
       "Weapon_used_cd    0\n",
       "Weapon_desc       0\n",
       "Status            0\n",
       "Status_desc       0\n",
       "Crm_cd_1          0\n",
       "Crm_cd_2          0\n",
       "Crm_cd_3          0\n",
       "Crm_cd_4          0\n",
       "Location          0\n",
       "Cross_street      0\n",
       "Lat               0\n",
       "Lon               0\n",
       "dtype: int64"
      ]
     },
     "execution_count": 14,
     "metadata": {},
     "output_type": "execute_result"
    }
   ],
   "source": [
    "df1.isnull().sum()"
   ]
  },
  {
   "cell_type": "code",
   "execution_count": 15,
   "metadata": {},
   "outputs": [
    {
     "data": {
      "text/plain": [
       "(10, 28)"
      ]
     },
     "execution_count": 15,
     "metadata": {},
     "output_type": "execute_result"
    }
   ],
   "source": [
    "df1.shape"
   ]
  },
  {
   "cell_type": "code",
   "execution_count": 16,
   "metadata": {},
   "outputs": [
    {
     "data": {
      "text/plain": [
       "Index([65996, 86494, 363534, 372303, 489771, 537468, 585570, 727903, 808617,\n",
       "       911880],\n",
       "      dtype='int64')"
      ]
     },
     "execution_count": 16,
     "metadata": {},
     "output_type": "execute_result"
    }
   ],
   "source": [
    "df1.index"
   ]
  },
  {
   "cell_type": "code",
   "execution_count": 17,
   "metadata": {},
   "outputs": [
    {
     "data": {
      "text/plain": [
       "Index(['Dr_no', 'Date_rptd', 'Date_occ', 'Time_occ', 'Area', 'Area_name',\n",
       "       'Rpt_dist_no', 'Part_1-2', 'Crm_cd', 'Crm_cd_desc', 'Mocodes',\n",
       "       'Vict_age', 'Vict_sex', 'Vict_descent', 'Premis_cd', 'Premis_desc',\n",
       "       'Weapon_used_cd', 'Weapon_desc', 'Status', 'Status_desc', 'Crm_cd_1',\n",
       "       'Crm_cd_2', 'Crm_cd_3', 'Crm_cd_4', 'Location', 'Cross_street', 'Lat',\n",
       "       'Lon'],\n",
       "      dtype='object')"
      ]
     },
     "execution_count": 17,
     "metadata": {},
     "output_type": "execute_result"
    }
   ],
   "source": [
    "df1.columns"
   ]
  },
  {
   "cell_type": "code",
   "execution_count": 18,
   "metadata": {},
   "outputs": [
    {
     "data": {
      "text/plain": [
       "array([19,  6,  2, 17, 14])"
      ]
     },
     "execution_count": 18,
     "metadata": {},
     "output_type": "execute_result"
    }
   ],
   "source": [
    "df1['Area'].unique()"
   ]
  },
  {
   "cell_type": "code",
   "execution_count": 19,
   "metadata": {},
   "outputs": [
    {
     "data": {
      "text/plain": [
       "Dr_no             10\n",
       "Date_rptd         10\n",
       "Date_occ          10\n",
       "Time_occ          10\n",
       "Area               5\n",
       "Area_name          5\n",
       "Rpt_dist_no       10\n",
       "Part_1-2           2\n",
       "Crm_cd             7\n",
       "Crm_cd_desc        7\n",
       "Mocodes           10\n",
       "Vict_age          10\n",
       "Vict_sex           3\n",
       "Vict_descent       4\n",
       "Premis_cd          7\n",
       "Premis_desc        7\n",
       "Weapon_used_cd     8\n",
       "Weapon_desc        8\n",
       "Status             3\n",
       "Status_desc        3\n",
       "Crm_cd_1           6\n",
       "Crm_cd_2           9\n",
       "Crm_cd_3           4\n",
       "Crm_cd_4           1\n",
       "Location          10\n",
       "Cross_street      10\n",
       "Lat               10\n",
       "Lon               10\n",
       "dtype: int64"
      ]
     },
     "execution_count": 19,
     "metadata": {},
     "output_type": "execute_result"
    }
   ],
   "source": [
    "df1.nunique()"
   ]
  },
  {
   "cell_type": "code",
   "execution_count": 20,
   "metadata": {},
   "outputs": [
    {
     "data": {
      "text/plain": [
       "Dr_no             10\n",
       "Date_rptd         10\n",
       "Date_occ          10\n",
       "Time_occ          10\n",
       "Area              10\n",
       "Area_name         10\n",
       "Rpt_dist_no       10\n",
       "Part_1-2          10\n",
       "Crm_cd            10\n",
       "Crm_cd_desc       10\n",
       "Mocodes           10\n",
       "Vict_age          10\n",
       "Vict_sex          10\n",
       "Vict_descent      10\n",
       "Premis_cd         10\n",
       "Premis_desc       10\n",
       "Weapon_used_cd    10\n",
       "Weapon_desc       10\n",
       "Status            10\n",
       "Status_desc       10\n",
       "Crm_cd_1          10\n",
       "Crm_cd_2          10\n",
       "Crm_cd_3          10\n",
       "Crm_cd_4          10\n",
       "Location          10\n",
       "Cross_street      10\n",
       "Lat               10\n",
       "Lon               10\n",
       "dtype: int64"
      ]
     },
     "execution_count": 20,
     "metadata": {},
     "output_type": "execute_result"
    }
   ],
   "source": [
    "df1.count()"
   ]
  },
  {
   "cell_type": "code",
   "execution_count": 21,
   "metadata": {},
   "outputs": [
    {
     "data": {
      "text/plain": [
       "Area\n",
       "19    3\n",
       "6     3\n",
       "17    2\n",
       "2     1\n",
       "14    1\n",
       "Name: count, dtype: int64"
      ]
     },
     "execution_count": 21,
     "metadata": {},
     "output_type": "execute_result"
    }
   ],
   "source": [
    "df1['Area'].value_counts()"
   ]
  },
  {
   "cell_type": "code",
   "execution_count": 22,
   "metadata": {},
   "outputs": [
    {
     "name": "stdout",
     "output_type": "stream",
     "text": [
      "<class 'pandas.core.frame.DataFrame'>\n",
      "Index: 10 entries, 65996 to 911880\n",
      "Data columns (total 28 columns):\n",
      " #   Column          Non-Null Count  Dtype  \n",
      "---  ------          --------------  -----  \n",
      " 0   Dr_no           10 non-null     int64  \n",
      " 1   Date_rptd       10 non-null     object \n",
      " 2   Date_occ        10 non-null     object \n",
      " 3   Time_occ        10 non-null     int64  \n",
      " 4   Area            10 non-null     int64  \n",
      " 5   Area_name       10 non-null     object \n",
      " 6   Rpt_dist_no     10 non-null     int64  \n",
      " 7   Part_1-2        10 non-null     int64  \n",
      " 8   Crm_cd          10 non-null     int64  \n",
      " 9   Crm_cd_desc     10 non-null     object \n",
      " 10  Mocodes         10 non-null     object \n",
      " 11  Vict_age        10 non-null     int64  \n",
      " 12  Vict_sex        10 non-null     object \n",
      " 13  Vict_descent    10 non-null     object \n",
      " 14  Premis_cd       10 non-null     float64\n",
      " 15  Premis_desc     10 non-null     object \n",
      " 16  Weapon_used_cd  10 non-null     float64\n",
      " 17  Weapon_desc     10 non-null     object \n",
      " 18  Status          10 non-null     object \n",
      " 19  Status_desc     10 non-null     object \n",
      " 20  Crm_cd_1        10 non-null     float64\n",
      " 21  Crm_cd_2        10 non-null     float64\n",
      " 22  Crm_cd_3        10 non-null     float64\n",
      " 23  Crm_cd_4        10 non-null     float64\n",
      " 24  Location        10 non-null     object \n",
      " 25  Cross_street    10 non-null     object \n",
      " 26  Lat             10 non-null     float64\n",
      " 27  Lon             10 non-null     float64\n",
      "dtypes: float64(8), int64(7), object(13)\n",
      "memory usage: 2.3+ KB\n"
     ]
    }
   ],
   "source": [
    "df1.info()"
   ]
  },
  {
   "cell_type": "markdown",
   "metadata": {},
   "source": [
    "### 1.What are the most common types of crimes based on the Crm_cd_desc field?"
   ]
  },
  {
   "cell_type": "code",
   "execution_count": 23,
   "metadata": {},
   "outputs": [
    {
     "name": "stderr",
     "output_type": "stream",
     "text": [
      "C:\\Users\\aravi\\AppData\\Local\\Temp\\ipykernel_15384\\1152029321.py:12: FutureWarning: \n",
      "\n",
      "Passing `palette` without assigning `hue` is deprecated and will be removed in v0.14.0. Assign the `x` variable to `hue` and set `legend=False` for the same effect.\n",
      "\n",
      "  sns.barplot(x=crime_counts.index, y=crime_counts.values, palette=\"magma\")\n"
     ]
    },
    {
     "data": {
      "image/png": "[encoded data removed]",
      "text/plain": [
       "<Figure size 800x500 with 1 Axes>"
      ]
     },
     "metadata": {},
     "output_type": "display_data"
    }
   ],
   "source": [
    "import pandas as pd\n",
    "import matplotlib.pyplot as plt\n",
    "import seaborn as sns\n",
    "\n",
    "# Count occurrences of each crime description\n",
    "crime_counts = df1['Crm_cd_desc'].value_counts().tail(5)\n",
    "\n",
    "\n",
    "\n",
    "# Plotting the data\n",
    "plt.figure(figsize=(8, 5))\n",
    "sns.barplot(x=crime_counts.index, y=crime_counts.values, palette=\"magma\")\n",
    "plt.title('Crimes by Hour of the Day')\n",
    "plt.xlabel('Hour of the Day')\n",
    "plt.ylabel('Number of Crimes')\n",
    "plt.xticks(rotation=80)\n",
    "plt.show()\n"
   ]
  },
  {
   "cell_type": "markdown",
   "metadata": {},
   "source": [
    "### 2. Which areas have the highest number of crimes reported?"
   ]
  },
  {
   "cell_type": "code",
   "execution_count": 24,
   "metadata": {},
   "outputs": [
    {
     "name": "stderr",
     "output_type": "stream",
     "text": [
      "C:\\Users\\aravi\\AppData\\Local\\Temp\\ipykernel_15384\\1704948333.py:5: FutureWarning: \n",
      "\n",
      "Passing `palette` without assigning `hue` is deprecated and will be removed in v0.14.0. Assign the `y` variable to `hue` and set `legend=False` for the same effect.\n",
      "\n",
      "  sns.barplot(x=area_crimes.values, y=area_crimes.index, palette=\"magma\")\n"
     ]
    },
    {
     "data": {
      "image/png": "[encoded data removed]",
      "text/plain": [
       "<Figure size 800x500 with 1 Axes>"
      ]
     },
     "metadata": {},
     "output_type": "display_data"
    }
   ],
   "source": [
    "\n",
    "area_crimes = df1['Area_name'].value_counts().head(10)  \n",
    "\n",
    "# Plot the top 10 areas with the most crimes\n",
    "plt.figure(figsize=(8, 5))\n",
    "sns.barplot(x=area_crimes.values, y=area_crimes.index, palette=\"magma\")\n",
    "plt.title('Top 10 Areas with the Highest Crime Reports')\n",
    "plt.xlabel('Number of Crimes')\n",
    "plt.ylabel('Area Name')\n",
    "plt.show()\n",
    "\n"
   ]
  },
  {
   "cell_type": "markdown",
   "metadata": {},
   "source": [
    "### 3. During which hours do crimes most frequently occur based on Time_occ?\n"
   ]
  },
  {
   "cell_type": "code",
   "execution_count": 25,
   "metadata": {},
   "outputs": [
    {
     "name": "stderr",
     "output_type": "stream",
     "text": [
      "C:\\Users\\aravi\\AppData\\Local\\Temp\\ipykernel_15384\\2554688903.py:11: FutureWarning: \n",
      "\n",
      "Passing `palette` without assigning `hue` is deprecated and will be removed in v0.14.0. Assign the `x` variable to `hue` and set `legend=False` for the same effect.\n",
      "\n",
      "  sns.barplot(x=hourly_crimes.index, y=hourly_crimes.values, palette=\"magma\")\n"
     ]
    },
    {
     "data": {
      "image/png": "[encoded data removed]",
      "text/plain": [
       "<Figure size 800x500 with 1 Axes>"
      ]
     },
     "metadata": {},
     "output_type": "display_data"
    }
   ],
   "source": [
    "\n",
    "df1['Time_occ'] = df1['Time_occ'].apply(lambda x: f\"{int(x):04d}\")\n",
    "\n",
    "# Extract hour from Time_occ (first two characters)\n",
    "df1['Hour'] = df1['Time_occ'].str[:2].astype(int)\n",
    "\n",
    "# Count crimes per hour\n",
    "hourly_crimes = df1['Hour'].value_counts().sort_index()\n",
    "\n",
    "# Plot crimes by hour\n",
    "plt.figure(figsize=(8, 5))\n",
    "sns.barplot(x=hourly_crimes.index, y=hourly_crimes.values, palette=\"magma\")\n",
    "plt.title('Crime Occurrence by Hour of Day')\n",
    "plt.xlabel('Hour of the Day')\n",
    "plt.ylabel('Number of Crimes')\n",
    "plt.show()\n"
   ]
  },
  {
   "cell_type": "markdown",
   "metadata": {},
   "source": [
    "### 4. How many crimes are open or closed based on Status_desc?"
   ]
  },
  {
   "cell_type": "code",
   "execution_count": 26,
   "metadata": {},
   "outputs": [
    {
     "name": "stderr",
     "output_type": "stream",
     "text": [
      "C:\\Users\\aravi\\AppData\\Local\\Temp\\ipykernel_15384\\867279260.py:5: FutureWarning: \n",
      "\n",
      "Passing `palette` without assigning `hue` is deprecated and will be removed in v0.14.0. Assign the `x` variable to `hue` and set `legend=False` for the same effect.\n",
      "\n",
      "  sns.barplot(x=status_counts.index, y=status_counts.values, palette=\"magma\")\n"
     ]
    },
    {
     "data": {
      "image/png": "[encoded data removed]",
      "text/plain": [
       "<Figure size 800x500 with 1 Axes>"
      ]
     },
     "metadata": {},
     "output_type": "display_data"
    }
   ],
   "source": [
    "\n",
    "status_counts = df1['Status_desc'].value_counts()\n",
    "\n",
    "# Plot crimes by status\n",
    "plt.figure(figsize=(8, 5))\n",
    "sns.barplot(x=status_counts.index, y=status_counts.values, palette=\"magma\")\n",
    "plt.title('Crime Status Distribution')\n",
    "plt.xlabel('Status Description')\n",
    "plt.ylabel('Number of Crimes')\n",
    "plt.xticks(rotation=45)\n",
    "plt.show()\n"
   ]
  },
  {
   "cell_type": "markdown",
   "metadata": {},
   "source": [
    "### 5. What is the distribution of crimes across different geographic locations (based on latitude and longitude)?"
   ]
  },
  {
   "cell_type": "code",
   "execution_count": 27,
   "metadata": {},
   "outputs": [
    {
     "data": {
      "image/png": "[encoded data removed]",
      "text/plain": [
       "<Figure size 800x500 with 1 Axes>"
      ]
     },
     "metadata": {},
     "output_type": "display_data"
    }
   ],
   "source": [
    "# Scatter plot for geographical crime data\n",
    "plt.figure(figsize=(8, 5))\n",
    "plt.scatter(df1['Lon'], df1['Lat'], alpha=0.3, c='blue', s=70)\n",
    "plt.title('Geospatial Crime Distribution')\n",
    "plt.xlabel('Longitude')\n",
    "plt.ylabel('Latitude')\n",
    "plt.show()\n"
   ]
  },
  {
   "cell_type": "markdown",
   "metadata": {},
   "source": [
    "### 6. How many crimes involve multiple crime codes (Crm_cd_2, Crm_cd_3, Crm_cd_4)?"
   ]
  },
  {
   "cell_type": "code",
   "execution_count": 28,
   "metadata": {},
   "outputs": [
    {
     "data": {
      "image/png": "[encoded data removed]",
      "text/plain": [
       "<Figure size 800x500 with 1 Axes>"
      ]
     },
     "metadata": {},
     "output_type": "display_data"
    }
   ],
   "source": [
    "\n",
    "multi_crime_code = df1[['Crm_cd_2', 'Crm_cd_3', 'Crm_cd_4']].notna().sum(axis=0)\n",
    "\n",
    "# Filter for crimes with more than one crime code\n",
    "multiple_codes = multi_crime_code[multi_crime_code > 0].value_counts()\n",
    "\n",
    "# Plot crimes with multiple codes\n",
    "plt.figure(figsize=(8,5))\n",
    "sns.lineplot(x=multi_crime_code.index, y=multi_crime_code.values, marker='o')\n",
    "plt.title('Crimes with Multiple Crime Codes')\n",
    "plt.xlabel('Number of Crime Codes')\n",
    "plt.ylabel('Number of Crimes')\n",
    "plt.show()\n"
   ]
  },
  {
   "cell_type": "markdown",
   "metadata": {},
   "source": [
    "### 7. What is the distribution of crime types in the dataset?"
   ]
  },
  {
   "cell_type": "code",
   "execution_count": 29,
   "metadata": {},
   "outputs": [
    {
     "data": {
      "image/png": "[encoded data removed]",
      "text/plain": [
       "<Figure size 800x500 with 1 Axes>"
      ]
     },
     "metadata": {},
     "output_type": "display_data"
    }
   ],
   "source": [
    "# Count occurrences of each crime description\n",
    "crime_counts = df1['Crm_cd_desc'].value_counts().head(5)  # Top 5 crime types for the pie chart\n",
    "\n",
    "# Plot a pie chart for the top 5 most common crimes\n",
    "plt.figure(figsize=(8,5))                               \n",
    "plt.pie(crime_counts, labels=crime_counts.index, autopct='%1.1f%%', startangle=90, colors=sns.color_palette(\"magma\", 5))\n",
    "\n",
    "# Add title\n",
    "plt.title('Top 5 Most Common Crime Types')\n",
    "\n",
    "# Display the plot\n",
    "plt.tight_layout()\n",
    "plt.show()\n"
   ]
  },
  {
   "cell_type": "markdown",
   "metadata": {},
   "source": [
    "### 8. Monthly Crime Reports"
   ]
  },
  {
   "cell_type": "code",
   "execution_count": 30,
   "metadata": {},
   "outputs": [
    {
     "data": {
      "image/png": "[encoded data removed]",
      "text/plain": [
       "<Figure size 800x500 with 1 Axes>"
      ]
     },
     "metadata": {},
     "output_type": "display_data"
    }
   ],
   "source": [
    "\n",
    "\n",
    "# Assuming df1 is already loaded with your crime data\n",
    "\n",
    "# Convert 'Date_rptd' to datetime\n",
    "df1['Date_rptd'] = pd.to_datetime(df1['Date_rptd'], errors='coerce')  # Handle invalid dates\n",
    "\n",
    "# Extract year and month\n",
    "df1['Month'] = df1['Date_rptd'].dt.to_period('M')\n",
    "\n",
    "# Count crimes per month\n",
    "monthly_crimes = df1['Month'].value_counts().sort_index()\n",
    "\n",
    "# Convert the PeriodIndex to string for plotting\n",
    "monthly_crimes.index = monthly_crimes.index.astype(str)\n",
    "\n",
    "# Plot crimes per month\n",
    "plt.figure(figsize=(8, 5))\n",
    "sns.lineplot(x=monthly_crimes.index, y=monthly_crimes.values, marker='o')\n",
    "\n",
    "# Add title and labels\n",
    "plt.title('Monthly Crime Reports')\n",
    "plt.xlabel('Month')\n",
    "plt.ylabel('Number of Crimes')\n",
    "plt.xticks(rotation=45)\n",
    "\n",
    "# Display the plot\n",
    "plt.tight_layout()\n",
    "plt.show()\n"
   ]
  },
  {
   "cell_type": "markdown",
   "metadata": {},
   "source": [
    "### 9.What are the most common weapons used in crimes?"
   ]
  },
  {
   "cell_type": "code",
   "execution_count": 31,
   "metadata": {},
   "outputs": [
    {
     "name": "stderr",
     "output_type": "stream",
     "text": [
      "C:\\Users\\aravi\\AppData\\Local\\Temp\\ipykernel_15384\\1207610614.py:6: FutureWarning: \n",
      "\n",
      "Passing `palette` without assigning `hue` is deprecated and will be removed in v0.14.0. Assign the `y` variable to `hue` and set `legend=False` for the same effect.\n",
      "\n",
      "  sns.barplot(x=weapon_counts.values, y=weapon_counts.index, palette=\"magma\")\n"
     ]
    },
    {
     "data": {
      "image/png": "[encoded data removed]",
      "text/plain": [
       "<Figure size 800x500 with 1 Axes>"
      ]
     },
     "metadata": {},
     "output_type": "display_data"
    }
   ],
   "source": [
    "# Count occurrences of each weapon description\n",
    "weapon_counts = df1['Weapon_desc'].value_counts().head(10)  # Top 10 most common weapons\n",
    "\n",
    "# Plot the most common weapons used in crimes\n",
    "plt.figure(figsize=(8,5))\n",
    "sns.barplot(x=weapon_counts.values, y=weapon_counts.index, palette=\"magma\")\n",
    "\n",
    "# Add title and labels\n",
    "plt.title('Top 10 Most Common Weapons Used in Crimes')\n",
    "plt.xlabel('Number of Crimes')\n",
    "plt.ylabel('Weapon Description')\n",
    "\n",
    "# Display the plot\n",
    "plt.tight_layout()\n",
    "plt.show()\n"
   ]
  }
 ],
 "metadata": {
  "kernelspec": {
   "display_name": "Python 3",
   "language": "python",
   "name": "python3"
  },
  "language_info": {
   "codemirror_mode": {
    "name": "ipython",
    "version": 3
   },
   "file_extension": ".py",
   "mimetype": "text/x-python",
   "name": "python",
   "nbconvert_exporter": "python",
   "pygments_lexer": "ipython3",
   "version": "3.10.11"
  }
 },
 "nbformat": 4,
 "nbformat_minor": 2
}
